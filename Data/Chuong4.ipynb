{
 "cells": [
  {
   "cell_type": "markdown",
   "metadata": {},
   "source": [
    "# 4.4.1 Phân cụm khách hàng dựa trên Tổng chi tiêu (Montage) và tần suất mua hàng (Frequency)"
   ]
  },
  {
   "cell_type": "code",
   "execution_count": 24,
   "metadata": {},
   "outputs": [],
   "source": [
    "import pandas as pd\n",
    "import numpy as np\n",
    "import matplotlib.pyplot as plt\n",
    "import seaborn as sns\n",
    "from sklearn.preprocessing import StandardScaler\n",
    "from sklearn.neighbors import NearestNeighbors\n",
    "from sklearn.cluster import DBSCAN\n",
    "from sklearn.metrics import silhouette_score\n",
    "from datetime import datetime\n"
   ]
  },
  {
   "cell_type": "markdown",
   "metadata": {},
   "source": [
    "## Tiền xử lý dữ liệu và chuẩn hóa dữ liệu"
   ]
  },
  {
   "cell_type": "code",
   "execution_count": null,
   "metadata": {},
   "outputs": [
    {
     "name": "stdout",
     "output_type": "stream",
     "text": [
      "<class 'pandas.core.frame.DataFrame'>\n",
      "RangeIndex: 4339 entries, 0 to 4338\n",
      "Data columns (total 5 columns):\n",
      " #   Column       Non-Null Count  Dtype         \n",
      "---  ------       --------------  -----         \n",
      " 0   CustomerID   4339 non-null   int64         \n",
      " 1   Frequency    4339 non-null   int64         \n",
      " 2   Monetary     4339 non-null   float64       \n",
      " 3   InvoiceDate  4339 non-null   datetime64[ns]\n",
      " 4   Recency      4339 non-null   int64         \n",
      "dtypes: datetime64[ns](1), float64(1), int64(3)\n",
      "memory usage: 169.6 KB\n",
      "None\n",
      "   CustomerID  Frequency  Monetary         InvoiceDate  Recency\n",
      "0       12346          1  77183.60 2011-01-18 10:01:00      325\n",
      "1       12347          7   4310.00 2011-12-07 15:52:00        1\n",
      "2       12348          4   1797.24 2011-09-25 13:13:00       74\n",
      "3       12349          1   1757.55 2011-11-21 09:51:00       18\n",
      "4       12350          1    334.40 2011-02-02 16:01:00      309\n"
     ]
    }
   ],
   "source": [
    "# 1. Đọc dữ liệu\n",
    "df = pd.read_excel(\"D:/Downloads/KPDL-main/Data/Online Retail.xlsx\", engine=\"openpyxl\")\n",
    "\n",
    "# Loại bỏ các hóa đơn hủy (các giá trị InvoiceNo bắt đầu bằng 'C')\n",
    "df = df[~df['InvoiceNo'].astype(str).str.startswith('C')]\n",
    "\n",
    "# Tính toán cột Total: Số lượng * Đơn giá\n",
    "df['Total'] = df['Quantity'] * df['UnitPrice']\n",
    "\n",
    "\n",
    "# 2. Làm sạch dữ liệu\n",
    "\n",
    "# Loại bỏ các hóa đơn hủy (InvoiceNo bắt đầu bằng 'C')\n",
    "df = df[~df['InvoiceNo'].astype(str).str.startswith('C')]\n",
    "\n",
    "\n",
    "# Chuyển đổi CustomerID thành kiểu số nguyên để dễ xử lý\n",
    "df['CustomerID'] = df['CustomerID'].astype(int)\n",
    "\n",
    "# Tính toán cột \"Total\" = Số lượng * Đơn giá (Monetary Value cho mỗi giao dịch)\n",
    "df['Total'] = df['Quantity'] * df['UnitPrice']\n",
    "\n",
    "# 3. Tổng hợp dữ liệu theo từng khách hàng\n",
    "customer_agg = df.groupby('CustomerID').agg({\n",
    "    'InvoiceNo': 'nunique',   # Tần suất giao dịch (số hóa đơn duy nhất) → Frequency\n",
    "    'Total': 'sum',           # Tổng số tiền chi tiêu của khách hàng → Monetary\n",
    "    'InvoiceDate': 'max'      # Ngày giao dịch gần nhất → để tính Recency\n",
    "}).reset_index()  # Reset index để tránh MultiIndex\n",
    "\n",
    "# Đổi tên cột cho dễ hiểu\n",
    "customer_agg.rename(columns={'InvoiceNo': 'Frequency', 'Total': 'Monetary'}, inplace=True)\n",
    "\n",
    "# 4. Tính \"Recency\" (Số ngày kể từ lần mua gần nhất)\n",
    "customer_agg['InvoiceDate'] = pd.to_datetime(customer_agg['InvoiceDate'])  # Chuyển về kiểu datetime\n",
    "reference_date = customer_agg['InvoiceDate'].max()  # Ngày mới nhất trong dữ liệu\n",
    "customer_agg['Recency'] = (reference_date - customer_agg['InvoiceDate']).dt.days  # Tính số ngày từ lần mua cuối\n",
    "\n",
    "# 5. Chọn các đặc trưng cần thiết để phân cụm\n",
    "X = customer_agg[['Monetary', 'Frequency', 'Recency']]\n",
    "\n",
    "# 6. Chuẩn hóa dữ liệu bằng StandardScaler (giúp mô hình phân cụm hoạt động tốt hơn)\n",
    "scaler = StandardScaler()\n",
    "X_scaled = scaler.fit_transform(X)  # Chuẩn hóa dữ liệu để đưa về phân phối chuẩn (mean = 0, std = 1)\n",
    "\n",
    "print(customer_agg.info())\n",
    "print(customer_agg.head())\n",
    "\n",
    "\n"
   ]
  }
 ],
 "metadata": {
  "kernelspec": {
   "display_name": "Python 3",
   "language": "python",
   "name": "python3"
  },
  "language_info": {
   "codemirror_mode": {
    "name": "ipython",
    "version": 3
   },
   "file_extension": ".py",
   "mimetype": "text/x-python",
   "name": "python",
   "nbconvert_exporter": "python",
   "pygments_lexer": "ipython3",
   "version": "3.13.1"
  }
 },
 "nbformat": 4,
 "nbformat_minor": 2
}
