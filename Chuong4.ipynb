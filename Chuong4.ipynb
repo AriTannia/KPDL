{
 "cells": [
  {
   "cell_type": "markdown",
   "metadata": {},
   "source": [
    "# 4.4.1 Phân cụm khách hàng dựa trên Tổng chi tiêu (Montage) và tần suất mua hàng (Frequency)"
   ]
  },
  {
   "cell_type": "code",
   "execution_count": 21,
   "metadata": {},
   "outputs": [],
   "source": [
    "import pandas as pd\n",
    "import numpy as np\n",
    "import matplotlib.pyplot as plt\n",
    "import seaborn as sns\n",
    "from sklearn.preprocessing import StandardScaler\n",
    "from sklearn.neighbors import NearestNeighbors\n",
    "from sklearn.cluster import DBSCAN\n",
    "from sklearn.metrics import silhouette_score\n",
    "from datetime import datetime\n",
    "import pandas as pd\n",
    "from sklearn.decomposition import PCA\n",
    "from sklearn.datasets import load_iris"
   ]
  },
  {
   "cell_type": "markdown",
   "metadata": {},
   "source": [
    "## Tiền xử lý dữ liệu và chuẩn hóa dữ liệu"
   ]
  },
  {
   "cell_type": "code",
   "execution_count": null,
   "metadata": {},
   "outputs": [
    {
     "name": "stdout",
     "output_type": "stream",
     "text": [
      "     sepal length (cm)  sepal width (cm)  petal length (cm)  petal width (cm)\n",
      "0                  5.1               3.5                1.4               0.2\n",
      "1                  4.9               3.0                1.4               0.2\n",
      "2                  4.7               3.2                1.3               0.2\n",
      "3                  4.6               3.1                1.5               0.2\n",
      "4                  5.0               3.6                1.4               0.2\n",
      "..                 ...               ...                ...               ...\n",
      "145                6.7               3.0                5.2               2.3\n",
      "146                6.3               2.5                5.0               1.9\n",
      "147                6.5               3.0                5.2               2.0\n",
      "148                6.2               3.4                5.4               2.3\n",
      "149                5.9               3.0                5.1               1.8\n",
      "\n",
      "[150 rows x 4 columns]\n"
     ]
    }
   ],
   "source": [
    "# 1. Đọc dữ liệu từ Iris dataset\n",
    "iris = load_iris()\n",
    "df = pd.DataFrame(iris.data, columns=iris.feature_names)\n",
    "\n",
    "\n",
    "\n",
    "print(df)\n",
    "# # Loại bỏ các hóa đơn hủy (các giá trị InvoiceNo bắt đầu bằng 'C')\n",
    "# df = df[~df['InvoiceNo'].astype(str).str.startswith('C')]\n",
    "\n",
    "\n",
    "# # Tính toán cột Total: Số lượng * Đơn giá\n",
    "# df['Total'] = df['Quantity'] * df['UnitPrice']\n",
    "\n",
    "\n",
    "# # 2. Làm sạch dữ liệu\n",
    "\n",
    "# # Loại bỏ các hóa đơn hủy (InvoiceNo bắt đầu bằng 'C')\n",
    "# df = df[~df['InvoiceNo'].astype(str).str.startswith('C')]\n",
    "\n",
    "# Loại bỏ giá trị null\n",
    "df = df.dropna()\n",
    "    \n",
    "# Loại bỏ giá trị trùng lặp\n",
    "df = df.drop_duplicates()\n",
    "\n",
    "# # Loại bỏ các hàng có Quantity < 0\n",
    "# df = df[df[\"Quantity\"] >= 0]\n",
    "\n",
    "# # Chuyển đổi CustomerID thành kiểu số nguyên để dễ xử lý\n",
    "# df['CustomerID'] = df['CustomerID'].astype(int)\n",
    "\n",
    "# # Tính toán cột \"Total\" = Số lượng * Đơn giá (Monetary Value cho mỗi giao dịch)\n",
    "# df['Total'] = df['Quantity'] * df['UnitPrice']\n",
    "\n",
    "# # 3. Tổng hợp dữ liệu theo từng khách hàng\n",
    "# customer_agg = df.groupby('CustomerID').agg({\n",
    "#     'InvoiceNo': 'nunique',   # Tần suất giao dịch (số hóa đơn duy nhất) → Frequency\n",
    "#     'Total': 'sum',           # Tổng số tiền chi tiêu của khách hàng → Monetary\n",
    "#     'InvoiceDate': 'max'      # Ngày giao dịch gần nhất → để tính Recency\n",
    "# }).reset_index()  # Reset index để tránh MultiIndex\n",
    "\n",
    "# # Đổi tên cột cho dễ hiểu\n",
    "# customer_agg.rename(columns={'InvoiceNo': 'Frequency', 'Total': 'Monetary'}, inplace=True)\n",
    "\n",
    "# # 4. Tính \"Recency\" (Số ngày kể từ lần mua gần nhất)\n",
    "# customer_agg['InvoiceDate'] = pd.to_datetime(customer_agg['InvoiceDate'])  # Chuyển về kiểu datetime\n",
    "# reference_date = customer_agg['InvoiceDate'].max()  # Ngày mới nhất trong dữ liệu\n",
    "# customer_agg['Recency'] = (reference_date - customer_agg['InvoiceDate']).dt.days  # Tính số ngày từ lần mua cuối\n",
    "\n",
    "# # 5. Chọn các đặc trưng cần thiết để phân cụm\n",
    "# X = customer_agg[['Monetary', 'Frequency', 'Recency']]\n",
    "\n",
    "# # 6. Chuẩn hóa dữ liệu bằng StandardScaler (giúp mô hình phân cụm hoạt động tốt hơn)\n",
    "# scaler = StandardScaler()\n",
    "# X_scaled = scaler.fit_transform(X)  # Chuẩn hóa dữ liệu để đưa về phân phối chuẩn (mean = 0, std = 1)\n",
    "\n",
    "# print(customer_agg.info())\n",
    "# print(customer_agg.head())\n",
    "\n",
    "\n"
   ]
  }
 ],
 "metadata": {
  "kernelspec": {
   "display_name": "Python 3",
   "language": "python",
   "name": "python3"
  },
  "language_info": {
   "codemirror_mode": {
    "name": "ipython",
    "version": 3
   },
   "file_extension": ".py",
   "mimetype": "text/x-python",
   "name": "python",
   "nbconvert_exporter": "python",
   "pygments_lexer": "ipython3",
   "version": "3.13.1"
  }
 },
 "nbformat": 4,
 "nbformat_minor": 2
}
